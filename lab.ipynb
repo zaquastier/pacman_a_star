{
 "cells": [
  {
   "cell_type": "code",
   "execution_count": 16,
   "metadata": {},
   "outputs": [
    {
     "name": "stdout",
     "output_type": "stream",
     "text": [
      "38\n",
      "9\n",
      "['%%%%%%%%%%%%%%%%%%%%%%%%%%%%%%%%%%%%%'\n",
      " '%-------%-%-%-----------%---%-----%-%'\n",
      " '%-%%%%%%%-%-%%%-%-%%%-%%%-%%%%%%%-%-%'\n",
      " '%-------%-------%-%-----%-----%-%---%'\n",
      " '%%%%%-%%%%%-%%%-%-%-%-%%%-%%%%%-%-%%%'\n",
      " '%---%-%-%-%---%-%-%-%---%-%---%-%---%'\n",
      " '%-%%%-%-%-%-%%%-%%%%%-%%%-%-%%%-%%%-%'\n",
      " '%-------%-----%---%---%-----%-%-%---%'\n",
      " '%%%%%%%%%%%%%%%%%%%%%%%%%%%%%%%%%%%%%']\n"
     ]
    }
   ],
   "source": [
    "import numpy as np\n",
    "\n",
    "map_path = 'maps/test_map.txt'\n",
    "\n",
    "with open(map_path, 'r') as f:\n",
    "    map = []\n",
    "    # TODO: ensure map is valid\n",
    "    height = 0\n",
    "    for l in f:\n",
    "        width = len(l)\n",
    "        height += 1\n",
    "        map.append(l[:-1])\n",
    "\n",
    "    map = np.array(map)\n",
    "\n",
    "print(width)\n",
    "print(height)\n",
    "print(map)"
   ]
  },
  {
   "cell_type": "code",
   "execution_count": 2,
   "metadata": {},
   "outputs": [
    {
     "data": {
      "text/plain": [
       "2"
      ]
     },
     "execution_count": 2,
     "metadata": {},
     "output_type": "execute_result"
    }
   ],
   "source": [
    "A = [1, 2]\n",
    "A.pop()"
   ]
  },
  {
   "cell_type": "code",
   "execution_count": 4,
   "metadata": {},
   "outputs": [
    {
     "data": {
      "text/plain": [
       "1.0042228698730469"
      ]
     },
     "execution_count": 4,
     "metadata": {},
     "output_type": "execute_result"
    }
   ],
   "source": [
    "from time import time, sleep\n",
    "\n",
    "a = time()\n",
    "sleep(1)\n",
    "time() - a"
   ]
  }
 ],
 "metadata": {
  "kernelspec": {
   "display_name": ".venv",
   "language": "python",
   "name": "python3"
  },
  "language_info": {
   "codemirror_mode": {
    "name": "ipython",
    "version": 3
   },
   "file_extension": ".py",
   "mimetype": "text/x-python",
   "name": "python",
   "nbconvert_exporter": "python",
   "pygments_lexer": "ipython3",
   "version": "3.9.6"
  }
 },
 "nbformat": 4,
 "nbformat_minor": 2
}
