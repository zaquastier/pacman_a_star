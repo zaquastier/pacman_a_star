{
 "cells": [
  {
   "cell_type": "code",
   "execution_count": 16,
   "metadata": {},
   "outputs": [
    {
     "name": "stdout",
     "output_type": "stream",
     "text": [
      "38\n",
      "9\n",
      "['%%%%%%%%%%%%%%%%%%%%%%%%%%%%%%%%%%%%%'\n",
      " '%-------%-%-%-----------%---%-----%-%'\n",
      " '%-%%%%%%%-%-%%%-%-%%%-%%%-%%%%%%%-%-%'\n",
      " '%-------%-------%-%-----%-----%-%---%'\n",
      " '%%%%%-%%%%%-%%%-%-%-%-%%%-%%%%%-%-%%%'\n",
      " '%---%-%-%-%---%-%-%-%---%-%---%-%---%'\n",
      " '%-%%%-%-%-%-%%%-%%%%%-%%%-%-%%%-%%%-%'\n",
      " '%-------%-----%---%---%-----%-%-%---%'\n",
      " '%%%%%%%%%%%%%%%%%%%%%%%%%%%%%%%%%%%%%']\n"
     ]
    }
   ],
   "source": [
    "import numpy as np\n",
    "\n",
    "map_path = 'maps/test_map.txt'\n",
    "\n",
    "with open(map_path, 'r') as f:\n",
    "    map = []\n",
    "    # TODO: ensure map is valid\n",
    "    height = 0\n",
    "    for l in f:\n",
    "        width = len(l)\n",
    "        height += 1\n",
    "        map.append(l[:-1])\n",
    "\n",
    "    map = np.array(map)\n",
    "\n",
    "print(width)\n",
    "print(height)\n",
    "print(map)"
   ]
  },
  {
   "cell_type": "code",
   "execution_count": 2,
   "metadata": {},
   "outputs": [
    {
     "data": {
      "text/plain": [
       "2"
      ]
     },
     "execution_count": 2,
     "metadata": {},
     "output_type": "execute_result"
    }
   ],
   "source": [
    "A = [1, 2]\n",
    "A.pop()"
   ]
  },
  {
   "cell_type": "code",
   "execution_count": 2,
   "metadata": {},
   "outputs": [
    {
     "ename": "TypeError",
     "evalue": "unhashable type: 'list'",
     "output_type": "error",
     "traceback": [
      "\u001b[0;31m---------------------------------------------------------------------------\u001b[0m",
      "\u001b[0;31mTypeError\u001b[0m                                 Traceback (most recent call last)",
      "Cell \u001b[0;32mIn[2], line 5\u001b[0m\n\u001b[1;32m      1\u001b[0m A \u001b[38;5;241m=\u001b[39m [\u001b[38;5;124m'\u001b[39m\u001b[38;5;124ma\u001b[39m\u001b[38;5;124m'\u001b[39m, \u001b[38;5;124m'\u001b[39m\u001b[38;5;124mb\u001b[39m\u001b[38;5;124m'\u001b[39m, \u001b[38;5;124m'\u001b[39m\u001b[38;5;124mc\u001b[39m\u001b[38;5;124m'\u001b[39m]\n\u001b[1;32m      3\u001b[0m B \u001b[38;5;241m=\u001b[39m {\u001b[38;5;124m'\u001b[39m\u001b[38;5;124ma\u001b[39m\u001b[38;5;124m'\u001b[39m: \u001b[38;5;241m1\u001b[39m, \u001b[38;5;124m'\u001b[39m\u001b[38;5;124mb\u001b[39m\u001b[38;5;124m'\u001b[39m: \u001b[38;5;241m2\u001b[39m, \u001b[38;5;124m'\u001b[39m\u001b[38;5;124mc\u001b[39m\u001b[38;5;124m'\u001b[39m: \u001b[38;5;241m3\u001b[39m, \u001b[38;5;124m'\u001b[39m\u001b[38;5;124md\u001b[39m\u001b[38;5;124m'\u001b[39m: \u001b[38;5;241m4\u001b[39m}\n\u001b[0;32m----> 5\u001b[0m \u001b[43mB\u001b[49m\u001b[43m[\u001b[49m\u001b[43mA\u001b[49m\u001b[43m]\u001b[49m\n",
      "\u001b[0;31mTypeError\u001b[0m: unhashable type: 'list'"
     ]
    }
   ],
   "source": [
    "A = ['a', 'b', 'c']\n",
    "\n",
    "B = {'a': 1, 'b': 2, 'c': 3, 'd': 4}\n",
    "\n",
    "B[A]"
   ]
  }
 ],
 "metadata": {
  "kernelspec": {
   "display_name": ".venv",
   "language": "python",
   "name": "python3"
  },
  "language_info": {
   "codemirror_mode": {
    "name": "ipython",
    "version": 3
   },
   "file_extension": ".py",
   "mimetype": "text/x-python",
   "name": "python",
   "nbconvert_exporter": "python",
   "pygments_lexer": "ipython3",
   "version": "3.9.6"
  }
 },
 "nbformat": 4,
 "nbformat_minor": 2
}
